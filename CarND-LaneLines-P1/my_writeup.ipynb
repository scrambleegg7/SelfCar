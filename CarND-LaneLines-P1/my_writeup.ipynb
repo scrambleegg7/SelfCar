{
 "cells": [
  {
   "cell_type": "markdown",
   "metadata": {},
   "source": [
    "# **Finding Lane Lines on the Road** \n",
    "\n",
    "\n",
    "---\n",
    "\n",
    "**Finding Lane Lines on the Road**\n",
    "\n",
    "My final goals / steps of this 1st project of SelfCar driving are the following:\n",
    "* Make and Confirm a pipeline that finds lane lines on the road\n",
    "* Using Python and OpenCV component\n",
    "* Specially, \n",
    "* Output Video Images \n",
    "\n",
    "[//]: # (Image References)\n",
    "[image1]: ./examples/grayscale.jpg \"Grayscale\"\n",
    "[gray1]: ./test_gray_images/solidWhiteCurve.jpg\n",
    "[gauss1]: ./test_gauss_images/solidWhiteCurve.jpg\n",
    "[canny1]: ./test_canny_images/solidWhiteCurve.jpg\n",
    "\n",
    "---\n",
    "\n",
    "\n",
    "### My Pipeline. \n",
    "\n",
    "My main pipeline of the project consisted of 5 steps as follows.\n",
    "\n",
    "1. Grayscale\n",
    "This is a first step to convert colored image into Black and White image to suppress any impact of 3 layers of colored image. Not only shrinking the data size / amount to single dimention, but also    \n",
    "\n",
    " ![Gray Scale][gray1]\n",
    "\n",
    "2. Gaussian Blur\n",
    "The second step is Gaussian Blur processing which remove high-frequency data (a.k.a noize) from images. It also gives completed image more smoother in data block.\n",
    "I have setup kernel parameter = 15 and then generated from gray scale images as below.\n",
    "\n",
    "\n",
    " ![Gaussian Blur image][gauss1]\n",
    "\n",
    "3. Canny\n",
    "\n",
    "4. Masked and Hough\n",
    "5. Weighted Image (Blending image)\n",
    "\n",
    "\n",
    "![alt text][image1]\n",
    "\n",
    "\n",
    "### 2. Identify potential shortcomings with your current pipeline\n",
    "\n",
    "\n",
    "One potential shortcoming would be what would happen when ... \n",
    "\n",
    "Another shortcoming could be ...\n",
    "\n",
    "\n",
    "### 3. Suggest possible improvements to your pipeline\n",
    "\n",
    "A possible improvement would be to ...\n",
    "\n",
    "Another potential improvement could be to ...\n"
   ]
  },
  {
   "cell_type": "code",
   "execution_count": null,
   "metadata": {
    "collapsed": true
   },
   "outputs": [],
   "source": []
  }
 ],
 "metadata": {
  "kernelspec": {
   "display_name": "carnd-term1(UdaCity)",
   "language": "python",
   "name": "carnd-term1"
  },
  "language_info": {
   "codemirror_mode": {
    "name": "ipython",
    "version": 3
   },
   "file_extension": ".py",
   "mimetype": "text/x-python",
   "name": "python",
   "nbconvert_exporter": "python",
   "pygments_lexer": "ipython3",
   "version": "3.5.2"
  }
 },
 "nbformat": 4,
 "nbformat_minor": 2
}
